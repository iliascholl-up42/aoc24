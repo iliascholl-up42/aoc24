{
  "cells": [
    {
      "metadata": {},
      "cell_type": "markdown",
      "source": "# Data",
      "outputs": [],
      "execution_count": null
    },
    {
      "metadata": {
        "ExecuteTime": {
          "end_time": "2024-12-04T11:04:44.229815Z",
          "start_time": "2024-12-04T11:04:43.670178Z"
        }
      },
      "cell_type": "code",
      "source": [
        "import matrix.Matrix\n",
        "\n",
        "enum class Direction {\n",
        "    LEFT, RIGHT, UP, DOWN,\n",
        "}\n",
        "\n",
        "data class Coord(val x: Int, val y: Int) {\n",
        "    fun move(vararg directions: Direction): Coord = directions.fold(this) { location, direction ->\n",
        "        with(location) {\n",
        "            when (direction) {\n",
        "                Direction.LEFT -> copy(x = x - 1)\n",
        "                Direction.RIGHT -> copy(x = x + 1)\n",
        "                Direction.UP -> copy(y = y - 1)\n",
        "                Direction.DOWN -> copy(y = y + 1)\n",
        "            }\n",
        "        }\n",
        "    }\n",
        "}\n",
        "\n",
        "fun Matrix<Char>.findChar(searchedChar: Char): List<Coord> =\n",
        "    flatMapIndexed { y, chars ->\n",
        "        chars.mapIndexedNotNull { x, charAtLocation ->\n",
        "            if (searchedChar==charAtLocation) Coord(x, y)\n",
        "            else null\n",
        "        }\n",
        "    }\n",
        "\n",
        "fun Matrix<Char>.charAt(coord: Coord): Char? = getOrNull(coord.y)?.getOrNull(coord.x)"
      ],
      "outputs": [],
      "execution_count": null
    },
    {
      "metadata": {},
      "cell_type": "markdown",
      "source": "# Part 1",
      "outputs": [],
      "execution_count": null
    },
    {
      "metadata": {
        "ExecuteTime": {
          "end_time": "2024-12-04T11:04:44.417867Z",
          "start_time": "2024-12-04T11:04:44.234215Z"
        }
      },
      "cell_type": "code",
      "source": [
        "val searchDirections = listOf(\n",
        "    List(3) { arrayOf(Direction.LEFT) },\n",
        "    List(3) { arrayOf(Direction.RIGHT) },\n",
        "    List(3) { arrayOf(Direction.UP) },\n",
        "    List(3) { arrayOf(Direction.DOWN) },\n",
        "    List(3) { arrayOf(Direction.LEFT, Direction.UP) },\n",
        "    List(3) { arrayOf(Direction.LEFT, Direction.DOWN) },\n",
        "    List(3) { arrayOf(Direction.RIGHT, Direction.UP) },\n",
        "    List(3) { arrayOf(Direction.RIGHT, Direction.DOWN) }\n",
        ")\n",
        "\n",
        "fun getSearchLocations(startingPoint: Coord) = searchDirections.map {\n",
        "    it.runningFold(startingPoint) { location, directions ->\n",
        "        location.move(*directions)\n",
        "    }\n",
        "}"
      ],
      "outputs": [],
      "execution_count": null
    },
    {
      "metadata": {
        "ExecuteTime": {
          "end_time": "2024-12-04T11:04:44.588398Z",
          "start_time": "2024-12-04T11:04:44.421589Z"
        }
      },
      "cell_type": "code",
      "source": [
        "import matrix.Matrix\n",
        "\n",
        "fun Matrix<Char>.countWords() = findChar('X').map(::getSearchLocations).flatMap { startingLocations ->\n",
        "    startingLocations.map { searchLocations ->\n",
        "        searchLocations.map { charAt(it) }\n",
        "    }.filter { xmasCandidate ->\n",
        "        xmasCandidate.all { it!=null }\n",
        "    }\n",
        "}.count { xmasCandidate ->\n",
        "    xmasCandidate.joinToString(separator = \"\") == \"XMAS\"\n",
        "}"
      ],
      "outputs": [],
      "execution_count": null
    },
    {
      "metadata": {
        "ExecuteTime": {
          "end_time": "2024-12-04T11:04:44.678484Z",
          "start_time": "2024-12-04T11:04:44.591916Z"
        }
      },
      "cell_type": "code",
      "source": [
        "import input.file\n",
        "import input.Transformers.charMatrix\n",
        "\n",
        "val test by file(charMatrix)\n",
        "\n",
        "check(test.countWords() == 18)"
      ],
      "outputs": [],
      "execution_count": null
    },
    {
      "metadata": {
        "ExecuteTime": {
          "end_time": "2024-12-04T11:04:44.773764Z",
          "start_time": "2024-12-04T11:04:44.683389Z"
        }
      },
      "cell_type": "code",
      "source": [
        "val input by file(charMatrix)\n",
        "input.countWords()"
      ],
      "outputs": [],
      "execution_count": null
    },
    {
      "metadata": {},
      "cell_type": "markdown",
      "source": "# Part 2",
      "outputs": [],
      "execution_count": null
    },
    {
      "metadata": {
        "ExecuteTime": {
          "end_time": "2024-12-04T11:04:44.833095Z",
          "start_time": "2024-12-04T11:04:44.777227Z"
        }
      },
      "cell_type": "code",
      "source": [
        "fun getCorrectSearchLocations(startingPoint: Coord) = listOf(\n",
        "    listOf(startingPoint.move(Direction.UP, Direction.LEFT), startingPoint, startingPoint.move(Direction.DOWN, Direction.RIGHT)),\n",
        "    listOf(startingPoint.move(Direction.UP, Direction.RIGHT), startingPoint, startingPoint.move(Direction.DOWN, Direction.LEFT))\n",
        ")"
      ],
      "outputs": [],
      "execution_count": null
    },
    {
      "metadata": {
        "ExecuteTime": {
          "end_time": "2024-12-04T11:04:44.984128Z",
          "start_time": "2024-12-04T11:04:44.836699Z"
        }
      },
      "cell_type": "code",
      "source": [
        "fun Matrix<Char>.countWordsCorrectly() = findChar('A').map(::getCorrectSearchLocations).map { startingLocations ->\n",
        "    startingLocations.map { searchLocations ->\n",
        "        searchLocations.map { charAt(it) }\n",
        "    }\n",
        "}.filter { masPairCandidates ->\n",
        "    masPairCandidates.all { masCandidate ->\n",
        "        masCandidate.all { it!=null }\n",
        "    }\n",
        "}.count { masPairCandidates ->\n",
        "    masPairCandidates.all { masCandidate ->\n",
        "        masCandidate.sortedBy { it?.code }.joinToString(\"\")==\"AMS\"\n",
        "    }\n",
        "}"
      ],
      "outputs": [],
      "execution_count": null
    },
    {
      "metadata": {
        "ExecuteTime": {
          "end_time": "2024-12-04T11:04:45.016696Z",
          "start_time": "2024-12-04T11:04:44.987248Z"
        }
      },
      "cell_type": "code",
      "source": "check(test.countWordsCorrectly()==9)",
      "outputs": [],
      "execution_count": null
    },
    {
      "metadata": {
        "ExecuteTime": {
          "end_time": "2024-12-04T11:04:45.065083Z",
          "start_time": "2024-12-04T11:04:45.020289Z"
        }
      },
      "cell_type": "code",
      "source": "input.countWordsCorrectly()",
      "outputs": [],
      "execution_count": null
    }
  ],
  "metadata": {
    "kernelspec": {
      "display_name": "Kotlin",
      "language": "kotlin",
      "name": "kotlin"
    },
    "language_info": {
      "name": "kotlin",
      "version": "1.9.23",
      "mimetype": "text/x-kotlin",
      "file_extension": ".kt",
      "pygments_lexer": "kotlin",
      "codemirror_mode": "text/x-kotlin",
      "nbconvert_exporter": ""
    },
    "ktnbPluginMetadata": {
      "projectDependencies": [
        "aoc24.main"
      ],
      "projectLibraries": false
    }
  },
  "nbformat": 4,
  "nbformat_minor": 0
}
