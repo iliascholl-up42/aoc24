{
  "cells": [
    {
      "metadata": {},
      "cell_type": "markdown",
      "source": "# Data",
      "outputs": [],
      "execution_count": null
    },
    {
      "metadata": {
        "ExecuteTime": {
          "end_time": "2024-12-04T20:12:06.545919Z",
          "start_time": "2024-12-04T20:12:05.750014Z"
        }
      },
      "cell_type": "code",
      "source": [
        "import input.file\n",
        "import kotlin.streams.toList\n",
        "\n",
        "enum class Direction {\n",
        "    LEFT, RIGHT, UP, DOWN,\n",
        "}\n",
        "\n",
        "data class Coord(val x: Int, val y: Int) {\n",
        "    fun move(vararg directions: Direction): Coord = directions.fold(this) { location, direction ->\n",
        "        with(location) {\n",
        "            when (direction) {\n",
        "                Direction.LEFT -> copy(x = x - 1)\n",
        "                Direction.RIGHT -> copy(x = x + 1)\n",
        "                Direction.UP -> copy(y = y - 1)\n",
        "                Direction.DOWN -> copy(y = y + 1)\n",
        "            }\n",
        "        }\n",
        "    }\n",
        "}\n",
        "\n",
        "typealias CharMatrix = List<List<Char>>\n",
        "\n",
        "fun CharMatrix.findChar(searchedChar: Char): List<Coord> =\n",
        "    flatMapIndexed { y, chars ->\n",
        "        chars.mapIndexedNotNull { x, charAtLocation ->\n",
        "            if (searchedChar==charAtLocation) Coord(x, y)\n",
        "            else null\n",
        "        }\n",
        "    }\n",
        "\n",
        "fun CharMatrix.charAt(coord: Coord): Char? = getOrNull(coord.y)?.getOrNull(coord.x)\n",
        "\n",
        "fun parseInput(input: String) = input.lines().map { it.chars().toList().map(Int::toChar) }\n",
        "\n",
        "val input by file(::parseInput)\n",
        "val test by file(::parseInput)"
      ],
      "outputs": [],
      "execution_count": null
    },
    {
      "metadata": {},
      "cell_type": "markdown",
      "source": "# Part 1",
      "outputs": [],
      "execution_count": null
    },
    {
      "metadata": {
        "ExecuteTime": {
          "end_time": "2024-12-04T20:12:06.706385Z",
          "start_time": "2024-12-04T20:12:06.550500Z"
        }
      },
      "cell_type": "code",
      "source": [
        "val searchDirections = listOf(\n",
        "    List(3) { arrayOf(Direction.LEFT) },\n",
        "    List(3) { arrayOf(Direction.RIGHT) },\n",
        "    List(3) { arrayOf(Direction.UP) },\n",
        "    List(3) { arrayOf(Direction.DOWN) },\n",
        "    List(3) { arrayOf(Direction.LEFT, Direction.UP) },\n",
        "    List(3) { arrayOf(Direction.LEFT, Direction.DOWN) },\n",
        "    List(3) { arrayOf(Direction.RIGHT, Direction.UP) },\n",
        "    List(3) { arrayOf(Direction.RIGHT, Direction.DOWN) }\n",
        ")\n",
        "\n",
        "fun getSearchLocations(startingPoint: Coord) = searchDirections.map {\n",
        "    it.runningFold(startingPoint) { location, directions ->\n",
        "        location.move(*directions)\n",
        "    }\n",
        "}"
      ],
      "outputs": [],
      "execution_count": null
    },
    {
      "metadata": {
        "ExecuteTime": {
          "end_time": "2024-12-04T20:12:06.870481Z",
          "start_time": "2024-12-04T20:12:06.709739Z"
        }
      },
      "cell_type": "code",
      "source": [
        "fun CharMatrix.countWords() = findChar('X').map(::getSearchLocations).flatMap { startingLocations ->\n",
        "    startingLocations.map { searchLocations ->\n",
        "        searchLocations.map { charAt(it) }\n",
        "    }.filter { xmasCandidate ->\n",
        "        xmasCandidate.all { it!=null }\n",
        "    }\n",
        "}.count { xmasCandidate ->\n",
        "    xmasCandidate.joinToString(separator = \"\") == \"XMAS\"\n",
        "}"
      ],
      "outputs": [],
      "execution_count": null
    },
    {
      "metadata": {
        "ExecuteTime": {
          "end_time": "2024-12-04T20:12:06.923823Z",
          "start_time": "2024-12-04T20:12:06.875441Z"
        }
      },
      "cell_type": "code",
      "source": "check(test.countWords() == 18)",
      "outputs": [],
      "execution_count": null
    },
    {
      "metadata": {
        "ExecuteTime": {
          "end_time": "2024-12-04T20:12:06.998928Z",
          "start_time": "2024-12-04T20:12:06.927926Z"
        }
      },
      "cell_type": "code",
      "source": "input.countWords()",
      "outputs": [],
      "execution_count": null
    },
    {
      "metadata": {},
      "cell_type": "markdown",
      "source": "# Part 2",
      "outputs": [],
      "execution_count": null
    },
    {
      "metadata": {
        "ExecuteTime": {
          "end_time": "2024-12-04T20:12:07.053760Z",
          "start_time": "2024-12-04T20:12:07.004696Z"
        }
      },
      "cell_type": "code",
      "source": [
        "fun getCorrectSearchLocations(startingPoint: Coord) = listOf(\n",
        "    listOf(startingPoint.move(Direction.UP, Direction.LEFT), startingPoint, startingPoint.move(Direction.DOWN, Direction.RIGHT)),\n",
        "    listOf(startingPoint.move(Direction.UP, Direction.RIGHT), startingPoint, startingPoint.move(Direction.DOWN, Direction.LEFT))\n",
        ")"
      ],
      "outputs": [],
      "execution_count": null
    },
    {
      "metadata": {
        "ExecuteTime": {
          "end_time": "2024-12-04T20:12:07.197108Z",
          "start_time": "2024-12-04T20:12:07.056738Z"
        }
      },
      "cell_type": "code",
      "source": [
        "fun CharMatrix.countWordsCorrectly() = findChar('A').map(::getCorrectSearchLocations).map { startingLocations ->\n",
        "    startingLocations.map { searchLocations ->\n",
        "        searchLocations.map { charAt(it) }\n",
        "    }\n",
        "}.filter { masPairCandidates ->\n",
        "    masPairCandidates.all { masCandidate ->\n",
        "        masCandidate.all { it!=null }\n",
        "    }\n",
        "}.count { masPairCandidates ->\n",
        "    masPairCandidates.all { masCandidate ->\n",
        "        masCandidate.sortedBy { it?.code }.joinToString(\"\")==\"AMS\"\n",
        "    }\n",
        "}"
      ],
      "outputs": [],
      "execution_count": null
    },
    {
      "metadata": {
        "ExecuteTime": {
          "end_time": "2024-12-04T20:12:07.233038Z",
          "start_time": "2024-12-04T20:12:07.199899Z"
        }
      },
      "cell_type": "code",
      "source": "check(test.countWordsCorrectly()==9)",
      "outputs": [],
      "execution_count": null
    },
    {
      "metadata": {
        "ExecuteTime": {
          "end_time": "2024-12-04T20:12:07.284224Z",
          "start_time": "2024-12-04T20:12:07.237070Z"
        }
      },
      "cell_type": "code",
      "source": "input.countWordsCorrectly()",
      "outputs": [],
      "execution_count": null
    }
  ],
  "metadata": {
    "kernelspec": {
      "display_name": "Kotlin",
      "language": "kotlin",
      "name": "kotlin"
    },
    "language_info": {
      "name": "kotlin",
      "version": "1.9.23",
      "mimetype": "text/x-kotlin",
      "file_extension": ".kt",
      "pygments_lexer": "kotlin",
      "codemirror_mode": "text/x-kotlin",
      "nbconvert_exporter": ""
    },
    "ktnbPluginMetadata": {
      "projectDependencies": [
        "aoc24.main"
      ],
      "projectLibraries": false
    }
  },
  "nbformat": 4,
  "nbformat_minor": 0
}
