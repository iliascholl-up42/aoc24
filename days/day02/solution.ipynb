{
  "cells": [
    {
      "metadata": {},
      "cell_type": "markdown",
      "source": "# Data",
      "outputs": [],
      "execution_count": null
    },
    {
      "metadata": {
        "collapsed": true,
        "ExecuteTime": {
          "end_time": "2024-12-04T20:10:40.983184Z",
          "start_time": "2024-12-04T20:10:40.807296Z"
        }
      },
      "cell_type": "code",
      "source": [
        "import input.file\n",
        "\n",
        "fun parseInput(input: String) = input.lines().map { it.split(Regex(\"\\\\s+\")) }.map { it.map(String::toInt) }\n",
        "\n",
        "val test by file(::parseInput)\n",
        "val input by file(::parseInput)"
      ],
      "outputs": [],
      "execution_count": null
    },
    {
      "metadata": {},
      "cell_type": "markdown",
      "source": "# Part 1",
      "outputs": [],
      "execution_count": null
    },
    {
      "metadata": {
        "ExecuteTime": {
          "end_time": "2024-12-04T20:10:41.079136Z",
          "start_time": "2024-12-04T20:10:40.986327Z"
        }
      },
      "cell_type": "code",
      "source": [
        "fun isSafe(report: List<Int>) = report.windowed(2).fold(emptyList()) { acc: List<Int>, (first, second) ->\n",
        "    acc + (first - second)\n",
        "}.let { diffs ->\n",
        "    diffs.map(Math::abs).all { 1 <= it && it <= 3 } && Math.abs(diffs.count { it < 0 } - diffs.count { it > 0 })==diffs.size\n",
        "}"
      ],
      "outputs": [],
      "execution_count": null
    },
    {
      "metadata": {
        "ExecuteTime": {
          "end_time": "2024-12-04T20:10:41.150553Z",
          "start_time": "2024-12-04T20:10:41.098841Z"
        }
      },
      "cell_type": "code",
      "source": "check(test.count(::isSafe)==2)",
      "outputs": [],
      "execution_count": null
    },
    {
      "metadata": {
        "ExecuteTime": {
          "end_time": "2024-12-04T20:10:41.194854Z",
          "start_time": "2024-12-04T20:10:41.154380Z"
        }
      },
      "cell_type": "code",
      "source": "input.count(::isSafe)",
      "outputs": [],
      "execution_count": null
    },
    {
      "metadata": {},
      "cell_type": "markdown",
      "source": "# Part 2",
      "outputs": [],
      "execution_count": null
    },
    {
      "metadata": {
        "ExecuteTime": {
          "end_time": "2024-12-04T20:10:41.255448Z",
          "start_time": "2024-12-04T20:10:41.201445Z"
        }
      },
      "cell_type": "code",
      "source": [
        "fun isSafeWithProblemDampener(report: List<Int>) = report.indices.any { index ->\n",
        "    isSafe(report.toMutableList().also { it.removeAt(index) })\n",
        "}"
      ],
      "outputs": [],
      "execution_count": null
    },
    {
      "metadata": {
        "ExecuteTime": {
          "end_time": "2024-12-04T20:10:41.312340Z",
          "start_time": "2024-12-04T20:10:41.258428Z"
        }
      },
      "cell_type": "code",
      "source": "check(test.count(::isSafeWithProblemDampener)==4)",
      "outputs": [],
      "execution_count": null
    },
    {
      "metadata": {
        "ExecuteTime": {
          "end_time": "2024-12-04T20:10:41.352637Z",
          "start_time": "2024-12-04T20:10:41.315896Z"
        }
      },
      "cell_type": "code",
      "source": "input.count(::isSafeWithProblemDampener)",
      "outputs": [],
      "execution_count": null
    }
  ],
  "metadata": {
    "kernelspec": {
      "display_name": "Kotlin",
      "language": "kotlin",
      "name": "kotlin"
    },
    "language_info": {
      "name": "kotlin",
      "version": "1.9.23",
      "mimetype": "text/x-kotlin",
      "file_extension": ".kt",
      "pygments_lexer": "kotlin",
      "codemirror_mode": "text/x-kotlin",
      "nbconvert_exporter": ""
    },
    "ktnbPluginMetadata": {
      "projectDependencies": [
        "aoc24.main"
      ],
      "projectLibraries": false
    }
  },
  "nbformat": 4,
  "nbformat_minor": 0
}
