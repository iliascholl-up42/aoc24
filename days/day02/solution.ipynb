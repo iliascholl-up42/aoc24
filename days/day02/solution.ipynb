{
  "cells": [
    {
      "metadata": {},
      "cell_type": "markdown",
      "source": "# Data",
      "outputs": [],
      "execution_count": null
    },
    {
      "metadata": {
        "collapsed": true,
        "ExecuteTime": {
          "end_time": "2024-12-02T11:21:04.610021Z",
          "start_time": "2024-12-02T11:21:04.579359Z"
        }
      },
      "cell_type": "code",
      "source": [
        "val testData = readIntMatrix(\"test\")\n",
        "val inputData = readIntMatrix(\"input\")"
      ],
      "outputs": [],
      "execution_count": null
    },
    {
      "metadata": {},
      "cell_type": "markdown",
      "source": "# Part 1",
      "outputs": [],
      "execution_count": null
    },
    {
      "metadata": {
        "ExecuteTime": {
          "end_time": "2024-12-02T11:21:04.711984Z",
          "start_time": "2024-12-02T11:21:04.611973Z"
        }
      },
      "cell_type": "code",
      "source": [
        "fun isSafe(report: List<Int>) = report.windowed(2).fold(emptyList()) { acc: List<Int>, (first, second) ->\n",
        "    acc + (first - second)\n",
        "}.let { diffs ->\n",
        "    diffs.map(Math::abs).all { 1 <= it && it <= 3 } && Math.abs(diffs.count { it < 0 } - diffs.count { it > 0 })==diffs.size\n",
        "}"
      ],
      "outputs": [],
      "execution_count": null
    },
    {
      "metadata": {
        "ExecuteTime": {
          "end_time": "2024-12-02T11:21:04.767949Z",
          "start_time": "2024-12-02T11:21:04.714268Z"
        }
      },
      "cell_type": "code",
      "source": "check(testData.count(::isSafe)==2)",
      "outputs": [],
      "execution_count": null
    },
    {
      "metadata": {
        "ExecuteTime": {
          "end_time": "2024-12-02T11:21:04.823022Z",
          "start_time": "2024-12-02T11:21:04.771088Z"
        }
      },
      "cell_type": "code",
      "source": "inputData.count(::isSafe)",
      "outputs": [],
      "execution_count": null
    },
    {
      "metadata": {},
      "cell_type": "markdown",
      "source": "# Part 2",
      "outputs": [],
      "execution_count": null
    },
    {
      "metadata": {
        "ExecuteTime": {
          "end_time": "2024-12-02T11:21:04.944574Z",
          "start_time": "2024-12-02T11:21:04.882354Z"
        }
      },
      "cell_type": "code",
      "source": [
        "fun isSafeWithProblemDampener(report: List<Int>) = report.indices.map { index ->\n",
        "    report.toMutableList().also { it.removeAt(index) }\n",
        "}.any(::isSafe)"
      ],
      "outputs": [],
      "execution_count": null
    },
    {
      "metadata": {
        "ExecuteTime": {
          "end_time": "2024-12-02T11:21:05.002157Z",
          "start_time": "2024-12-02T11:21:04.946503Z"
        }
      },
      "cell_type": "code",
      "source": "check(testData.count(::isSafeWithProblemDampener)==4)",
      "outputs": [],
      "execution_count": null
    },
    {
      "metadata": {
        "ExecuteTime": {
          "end_time": "2024-12-02T11:21:05.066548Z",
          "start_time": "2024-12-02T11:21:05.005131Z"
        }
      },
      "cell_type": "code",
      "source": "inputData.count(::isSafeWithProblemDampener)",
      "outputs": [],
      "execution_count": null
    }
  ],
  "metadata": {
    "kernelspec": {
      "display_name": "Kotlin",
      "language": "kotlin",
      "name": "kotlin"
    },
    "language_info": {
      "name": "kotlin",
      "version": "1.9.23",
      "mimetype": "text/x-kotlin",
      "file_extension": ".kt",
      "pygments_lexer": "kotlin",
      "codemirror_mode": "text/x-kotlin",
      "nbconvert_exporter": ""
    },
    "ktnbPluginMetadata": {
      "projectDependencies": true
    }
  },
  "nbformat": 4,
  "nbformat_minor": 0
}
