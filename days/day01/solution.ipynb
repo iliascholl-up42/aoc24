{
  "cells": [
    {
      "metadata": {},
      "cell_type": "markdown",
      "source": "# Data",
      "outputs": [],
      "execution_count": null
    },
    {
      "metadata": {
        "ExecuteTime": {
          "end_time": "2024-12-01T20:52:58.565036Z",
          "start_time": "2024-12-01T20:52:58.478384Z"
        }
      },
      "cell_type": "code",
      "source": [
        "typealias Input = Pair<List<Int>, List<Int>>\n",
        "\n",
        "fun readInput(name: String): Input =\n",
        "    with(readStringMatrix(name).transpose()) {\n",
        "        first().map { it.toInt() } to last().map { it.toInt() }\n",
        "    }\n",
        "\n",
        "val testData = readInput(\"test\")\n",
        "val inputData = readInput(\"input\")"
      ],
      "outputs": [],
      "execution_count": null
    },
    {
      "metadata": {},
      "cell_type": "markdown",
      "source": "# Part 1",
      "outputs": [],
      "execution_count": null
    },
    {
      "metadata": {
        "collapsed": true,
        "ExecuteTime": {
          "end_time": "2024-12-01T20:52:58.622893Z",
          "start_time": "2024-12-01T20:52:58.567702Z"
        }
      },
      "cell_type": "code",
      "source": [
        "fun distance(input: Input) =\n",
        "    input.first.sorted().zip(input.second.sorted()).fold(0) { acc, (first, second) ->\n",
        "        acc + Math.abs(first - second)\n",
        "    }"
      ],
      "outputs": [],
      "execution_count": null
    },
    {
      "metadata": {
        "ExecuteTime": {
          "end_time": "2024-12-01T20:52:58.651465Z",
          "start_time": "2024-12-01T20:52:58.626949Z"
        }
      },
      "cell_type": "code",
      "source": "check(distance(testData)==11)",
      "outputs": [],
      "execution_count": null
    },
    {
      "metadata": {
        "ExecuteTime": {
          "end_time": "2024-12-01T20:52:58.677277Z",
          "start_time": "2024-12-01T20:52:58.654986Z"
        }
      },
      "cell_type": "code",
      "source": "distance(inputData)",
      "outputs": [],
      "execution_count": null
    },
    {
      "metadata": {},
      "cell_type": "markdown",
      "source": "# Part 2",
      "outputs": [],
      "execution_count": null
    },
    {
      "metadata": {
        "ExecuteTime": {
          "end_time": "2024-12-01T20:52:58.786638Z",
          "start_time": "2024-12-01T20:52:58.736033Z"
        }
      },
      "cell_type": "code",
      "source": [
        "fun similarity(input: Input) = input.first.fold(0) { acc, id ->\n",
        "    acc + id * input.second.filter { it==id }.size\n",
        "}"
      ],
      "outputs": [],
      "execution_count": null
    },
    {
      "metadata": {
        "ExecuteTime": {
          "end_time": "2024-12-01T20:52:58.814004Z",
          "start_time": "2024-12-01T20:52:58.789117Z"
        }
      },
      "cell_type": "code",
      "source": "check(similarity(testData)==31)",
      "outputs": [],
      "execution_count": null
    },
    {
      "metadata": {
        "ExecuteTime": {
          "end_time": "2024-12-01T20:52:58.857924Z",
          "start_time": "2024-12-01T20:52:58.817843Z"
        }
      },
      "cell_type": "code",
      "source": "similarity(inputData)",
      "outputs": [],
      "execution_count": null
    }
  ],
  "metadata": {
    "kernelspec": {
      "display_name": "Kotlin",
      "language": "kotlin",
      "name": "kotlin"
    },
    "language_info": {
      "name": "kotlin",
      "version": "1.9.23",
      "mimetype": "text/x-kotlin",
      "file_extension": ".kt",
      "pygments_lexer": "kotlin",
      "codemirror_mode": "text/x-kotlin",
      "nbconvert_exporter": ""
    },
    "ktnbPluginMetadata": {
      "projectDependencies": true
    }
  },
  "nbformat": 4,
  "nbformat_minor": 0
}
