{
  "cells": [
    {
      "metadata": {},
      "cell_type": "markdown",
      "source": "# Data",
      "outputs": [],
      "execution_count": null
    },
    {
      "metadata": {
        "ExecuteTime": {
          "end_time": "2024-12-04T20:10:36.049577Z",
          "start_time": "2024-12-04T20:10:35.800359Z"
        }
      },
      "cell_type": "code",
      "source": [
        "import input.file\n",
        "\n",
        "typealias Input = Pair<List<Int>, List<Int>>\n",
        "\n",
        "fun parseInput(data: String): Input = data.lines().map { it.split(Regex(\"\\\\s+\")) }.let {\n",
        "    it.first().indices.map { colIndex ->\n",
        "        it.indices.map { rowIndex -> it[rowIndex][colIndex] }\n",
        "    }\n",
        "}.let {\n",
        "    it.first().map(String::toInt) to it.last().map(String::toInt)\n",
        "}\n",
        "\n",
        "val test by file(::parseInput)\n",
        "val input by file(::parseInput)"
      ],
      "outputs": [],
      "execution_count": null
    },
    {
      "metadata": {},
      "cell_type": "markdown",
      "source": "# Part 1",
      "outputs": [],
      "execution_count": null
    },
    {
      "metadata": {
        "collapsed": true,
        "ExecuteTime": {
          "end_time": "2024-12-04T20:10:36.124320Z",
          "start_time": "2024-12-04T20:10:36.054219Z"
        }
      },
      "cell_type": "code",
      "source": [
        "fun distance(input: Pair<List<Int>, List<Int>>) =\n",
        "    input.first.sorted().zip(input.second.sorted()).fold(0) { acc, (first, second) ->\n",
        "        acc + Math.abs(first - second)\n",
        "    }"
      ],
      "outputs": [],
      "execution_count": null
    },
    {
      "metadata": {
        "ExecuteTime": {
          "end_time": "2024-12-04T20:10:36.169559Z",
          "start_time": "2024-12-04T20:10:36.127332Z"
        }
      },
      "cell_type": "code",
      "source": "check(distance(test)==11)",
      "outputs": [],
      "execution_count": null
    },
    {
      "metadata": {
        "ExecuteTime": {
          "end_time": "2024-12-04T20:10:36.204523Z",
          "start_time": "2024-12-04T20:10:36.173525Z"
        }
      },
      "cell_type": "code",
      "source": "distance(input)",
      "outputs": [],
      "execution_count": null
    },
    {
      "metadata": {},
      "cell_type": "markdown",
      "source": "# Part 2",
      "outputs": [],
      "execution_count": null
    },
    {
      "metadata": {
        "ExecuteTime": {
          "end_time": "2024-12-04T20:10:36.256543Z",
          "start_time": "2024-12-04T20:10:36.207586Z"
        }
      },
      "cell_type": "code",
      "source": [
        "fun similarity(input: Input) = input.first.fold(0) { acc, id ->\n",
        "    acc + id * input.second.filter { it==id }.size\n",
        "}"
      ],
      "outputs": [],
      "execution_count": null
    },
    {
      "metadata": {
        "ExecuteTime": {
          "end_time": "2024-12-04T20:10:36.292304Z",
          "start_time": "2024-12-04T20:10:36.259199Z"
        }
      },
      "cell_type": "code",
      "source": "check(similarity(test)==31)",
      "outputs": [],
      "execution_count": null
    },
    {
      "metadata": {
        "ExecuteTime": {
          "end_time": "2024-12-04T20:10:36.337636Z",
          "start_time": "2024-12-04T20:10:36.296266Z"
        }
      },
      "cell_type": "code",
      "source": "similarity(input)",
      "outputs": [],
      "execution_count": null
    }
  ],
  "metadata": {
    "kernelspec": {
      "display_name": "Kotlin",
      "language": "kotlin",
      "name": "kotlin"
    },
    "language_info": {
      "name": "kotlin",
      "version": "1.9.23",
      "mimetype": "text/x-kotlin",
      "file_extension": ".kt",
      "pygments_lexer": "kotlin",
      "codemirror_mode": "text/x-kotlin",
      "nbconvert_exporter": ""
    },
    "ktnbPluginMetadata": {
      "projectDependencies": [
        "aoc24.main"
      ],
      "projectLibraries": false
    }
  },
  "nbformat": 4,
  "nbformat_minor": 0
}
