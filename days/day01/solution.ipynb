{
  "cells": [
    {
      "metadata": {},
      "cell_type": "markdown",
      "source": "# Data",
      "outputs": [],
      "execution_count": null
    },
    {
      "metadata": {
        "ExecuteTime": {
          "end_time": "2024-12-03T13:12:24.782061Z",
          "start_time": "2024-12-03T13:12:24.684144Z"
        }
      },
      "cell_type": "code",
      "source": [
        "import matrix.readStringMatrix\n",
        "import matrix.transpose\n",
        "\n",
        "typealias Input = Pair<List<Int>, List<Int>>\n",
        "\n",
        "fun readInput(name: String): Input =\n",
        "    with(readStringMatrix(name).transpose()) {\n",
        "        first().map { it.toInt() } to last().map { it.toInt() }\n",
        "    }\n",
        "\n",
        "val testData = readInput(\"test\")\n",
        "val inputData = readInput(\"input\")"
      ],
      "outputs": [],
      "execution_count": null
    },
    {
      "metadata": {},
      "cell_type": "markdown",
      "source": "# Part 1",
      "outputs": [],
      "execution_count": null
    },
    {
      "metadata": {
        "collapsed": true,
        "ExecuteTime": {
          "end_time": "2024-12-03T13:12:24.845574Z",
          "start_time": "2024-12-03T13:12:24.785018Z"
        }
      },
      "cell_type": "code",
      "source": [
        "fun distance(input: Input) =\n",
        "    input.first.sorted().zip(input.second.sorted()).fold(0) { acc, (first, second) ->\n",
        "        acc + Math.abs(first - second)\n",
        "    }"
      ],
      "outputs": [],
      "execution_count": null
    },
    {
      "metadata": {
        "ExecuteTime": {
          "end_time": "2024-12-03T13:12:24.876610Z",
          "start_time": "2024-12-03T13:12:24.848428Z"
        }
      },
      "cell_type": "code",
      "source": "check(distance(testData)==11)",
      "outputs": [],
      "execution_count": null
    },
    {
      "metadata": {
        "ExecuteTime": {
          "end_time": "2024-12-03T13:12:24.909787Z",
          "start_time": "2024-12-03T13:12:24.880386Z"
        }
      },
      "cell_type": "code",
      "source": "distance(inputData)",
      "outputs": [],
      "execution_count": null
    },
    {
      "metadata": {},
      "cell_type": "markdown",
      "source": "# Part 2",
      "outputs": [],
      "execution_count": null
    },
    {
      "metadata": {
        "ExecuteTime": {
          "end_time": "2024-12-03T13:12:24.961915Z",
          "start_time": "2024-12-03T13:12:24.912803Z"
        }
      },
      "cell_type": "code",
      "source": [
        "fun similarity(input: Input) = input.first.fold(0) { acc, id ->\n",
        "    acc + id * input.second.filter { it==id }.size\n",
        "}"
      ],
      "outputs": [],
      "execution_count": null
    },
    {
      "metadata": {
        "ExecuteTime": {
          "end_time": "2024-12-03T13:12:24.991932Z",
          "start_time": "2024-12-03T13:12:24.964652Z"
        }
      },
      "cell_type": "code",
      "source": "check(similarity(testData)==31)",
      "outputs": [],
      "execution_count": null
    },
    {
      "metadata": {
        "ExecuteTime": {
          "end_time": "2024-12-03T13:12:25.029552Z",
          "start_time": "2024-12-03T13:12:24.994667Z"
        }
      },
      "cell_type": "code",
      "source": "similarity(inputData)",
      "outputs": [],
      "execution_count": null
    }
  ],
  "metadata": {
    "kernelspec": {
      "display_name": "Kotlin",
      "language": "kotlin",
      "name": "kotlin"
    },
    "language_info": {
      "name": "kotlin",
      "version": "1.9.23",
      "mimetype": "text/x-kotlin",
      "file_extension": ".kt",
      "pygments_lexer": "kotlin",
      "codemirror_mode": "text/x-kotlin",
      "nbconvert_exporter": ""
    },
    "ktnbPluginMetadata": {
      "projectDependencies": [
        "aoc24.main"
      ],
      "projectLibraries": false
    }
  },
  "nbformat": 4,
  "nbformat_minor": 0
}
