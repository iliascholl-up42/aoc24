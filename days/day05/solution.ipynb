{
  "cells": [
    {
      "metadata": {},
      "cell_type": "markdown",
      "source": "# Data",
      "outputs": [],
      "execution_count": null
    },
    {
      "metadata": {
        "ExecuteTime": {
          "end_time": "2024-12-05T18:22:38.273719Z",
          "start_time": "2024-12-05T18:22:38.151406Z"
        }
      },
      "cell_type": "code",
      "source": [
        "import input.file\n",
        "\n",
        "class PageComparator(orderings: List<Pair<String, String>>) : Comparator<String> {\n",
        "    private val orderings: Map<Pair<String, String>, Int>\n",
        "\n",
        "    init {\n",
        "        this.orderings = orderings.flatMap { (first, second) ->\n",
        "            listOf(\n",
        "                first to second to -1,\n",
        "                second to first to 1,\n",
        "            )\n",
        "        }.toMap()\n",
        "    }\n",
        "\n",
        "    override fun compare(first: String, second: String) = orderings.getOrDefault(first to second, 0)\n",
        "}\n",
        "\n",
        "fun parseInput(input: String) = input.split(\"\\n\\n\").let { (pageOrderingRules, pages) ->\n",
        "    pageOrderingRules.lines().map {\n",
        "        val (first, second) = it.split(\"|\")\n",
        "        first to second\n",
        "    }.let(::PageComparator) to pages.lines().map { it.split(\",\") }\n",
        "}\n",
        "\n",
        "val test by file(::parseInput)\n",
        "val input by file(::parseInput)"
      ],
      "outputs": [],
      "execution_count": null
    },
    {
      "metadata": {},
      "cell_type": "markdown",
      "source": "# Part 1",
      "outputs": [],
      "execution_count": null
    },
    {
      "metadata": {
        "ExecuteTime": {
          "end_time": "2024-12-05T18:22:38.318244Z",
          "start_time": "2024-12-05T18:22:38.276798Z"
        }
      },
      "cell_type": "code",
      "source": [
        "fun sumOfMiddleNumbers(input: Pair<Comparator<String>, List<List<String>>>): Int {\n",
        "    val (comparator, pages) = input\n",
        "    return pages\n",
        "        .filter { it==it.sortedWith(comparator) }\n",
        "        .sumOf { it[it.size / 2].toInt() }\n",
        "}"
      ],
      "outputs": [],
      "execution_count": null
    },
    {
      "metadata": {
        "ExecuteTime": {
          "end_time": "2024-12-05T18:22:38.347349Z",
          "start_time": "2024-12-05T18:22:38.321073Z"
        }
      },
      "cell_type": "code",
      "source": "check(sumOfMiddleNumbers(test)==143)",
      "outputs": [],
      "execution_count": null
    },
    {
      "metadata": {
        "ExecuteTime": {
          "end_time": "2024-12-05T18:22:38.381734Z",
          "start_time": "2024-12-05T18:22:38.352173Z"
        }
      },
      "cell_type": "code",
      "source": "sumOfMiddleNumbers(input)",
      "outputs": [],
      "execution_count": null
    },
    {
      "metadata": {},
      "cell_type": "markdown",
      "source": "# Part 2",
      "outputs": [],
      "execution_count": null
    },
    {
      "metadata": {
        "ExecuteTime": {
          "end_time": "2024-12-05T18:22:38.498248Z",
          "start_time": "2024-12-05T18:22:38.441232Z"
        }
      },
      "cell_type": "code",
      "source": [
        "fun sumOfMiddleNumbersAfterSorting(input: Pair<Comparator<String>, List<List<String>>>): Int {\n",
        "    val (comparator, pages) = input\n",
        "    return pages\n",
        "        .filter { it!=it.sortedWith(comparator) }\n",
        "        .sumOf {\n",
        "            it.sortedWith(input.first).let {\n",
        "                it[it.size / 2].toInt()\n",
        "            }\n",
        "        }\n",
        "}"
      ],
      "outputs": [],
      "execution_count": null
    },
    {
      "metadata": {
        "ExecuteTime": {
          "end_time": "2024-12-05T18:22:38.536046Z",
          "start_time": "2024-12-05T18:22:38.501417Z"
        }
      },
      "cell_type": "code",
      "source": "check(sumOfMiddleNumbersAfterSorting(test)==123)",
      "outputs": [],
      "execution_count": null
    },
    {
      "metadata": {
        "ExecuteTime": {
          "end_time": "2024-12-05T18:22:38.576590Z",
          "start_time": "2024-12-05T18:22:38.539617Z"
        }
      },
      "cell_type": "code",
      "source": "sumOfMiddleNumbersAfterSorting(input)",
      "outputs": [],
      "execution_count": null
    }
  ],
  "metadata": {
    "kernelspec": {
      "display_name": "Kotlin",
      "language": "kotlin",
      "name": "kotlin"
    },
    "language_info": {
      "name": "kotlin",
      "version": "1.9.23",
      "mimetype": "text/x-kotlin",
      "file_extension": ".kt",
      "pygments_lexer": "kotlin",
      "codemirror_mode": "text/x-kotlin",
      "nbconvert_exporter": ""
    },
    "ktnbPluginMetadata": {
      "projectDependencies": [
        "aoc24.main"
      ],
      "projectLibraries": false
    }
  },
  "nbformat": 4,
  "nbformat_minor": 0
}
