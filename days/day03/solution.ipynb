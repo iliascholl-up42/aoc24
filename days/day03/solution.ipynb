{
  "cells": [
    {
      "metadata": {},
      "cell_type": "markdown",
      "source": "# Data",
      "outputs": [],
      "execution_count": null
    },
    {
      "metadata": {
        "ExecuteTime": {
          "end_time": "2024-12-04T20:10:45.706733Z",
          "start_time": "2024-12-04T20:10:45.616796Z"
        }
      },
      "cell_type": "code",
      "source": [
        "import input.file\n",
        "\n",
        "fun parseInput(input: String): String = input.replace(\"\\n\", \"newline\")\n",
        "\n",
        "val test by file(::parseInput)\n",
        "val input by file(::parseInput)"
      ],
      "outputs": [],
      "execution_count": null
    },
    {
      "metadata": {},
      "cell_type": "markdown",
      "source": "# Part 1",
      "outputs": [],
      "execution_count": null
    },
    {
      "metadata": {
        "ExecuteTime": {
          "end_time": "2024-12-04T20:10:45.774856Z",
          "start_time": "2024-12-04T20:10:45.709929Z"
        }
      },
      "cell_type": "code",
      "source": [
        "fun getValidMuls(input: String) = Regex(\"mul\\\\((\\\\d{1,3}),(\\\\d{1,3})\\\\)\").findAll(input).map {\n",
        "    val (_, first, second) = it.groupValues\n",
        "    first.toInt() to second.toInt()\n",
        "}.toList()"
      ],
      "outputs": [],
      "execution_count": null
    },
    {
      "metadata": {
        "ExecuteTime": {
          "end_time": "2024-12-04T20:10:45.835072Z",
          "start_time": "2024-12-04T20:10:45.777546Z"
        }
      },
      "cell_type": "code",
      "source": "fun sumOfProducts(pairs: List<Pair<Int, Int>>) = pairs.sumOf { (first, second) -> first * second }",
      "outputs": [],
      "execution_count": null
    },
    {
      "metadata": {
        "ExecuteTime": {
          "end_time": "2024-12-04T20:10:45.878403Z",
          "start_time": "2024-12-04T20:10:45.837990Z"
        }
      },
      "cell_type": "code",
      "source": "check(sumOfProducts(getValidMuls(test))==161)",
      "outputs": [],
      "execution_count": null
    },
    {
      "metadata": {
        "ExecuteTime": {
          "end_time": "2024-12-04T20:10:45.920992Z",
          "start_time": "2024-12-04T20:10:45.883518Z"
        }
      },
      "cell_type": "code",
      "source": "sumOfProducts(getValidMuls(input))",
      "outputs": [],
      "execution_count": null
    },
    {
      "metadata": {},
      "cell_type": "markdown",
      "source": "# Part 2",
      "outputs": [],
      "execution_count": null
    },
    {
      "metadata": {
        "ExecuteTime": {
          "end_time": "2024-12-04T20:10:46.010222Z",
          "start_time": "2024-12-04T20:10:45.981123Z"
        }
      },
      "cell_type": "code",
      "source": "fun removeDisabledMuls(input: String) = Regex(\"don't\\\\(\\\\).*?(do\\\\(\\\\)|$)\").replace(input, \"disabled\")",
      "outputs": [],
      "execution_count": null
    },
    {
      "metadata": {
        "ExecuteTime": {
          "end_time": "2024-12-04T20:10:46.077620Z",
          "start_time": "2024-12-04T20:10:46.016117Z"
        }
      },
      "cell_type": "code",
      "source": [
        "val test2 by file(::parseInput)\n",
        "check(sumOfProducts(getValidMuls(removeDisabledMuls(test2)))==48)"
      ],
      "outputs": [],
      "execution_count": null
    },
    {
      "metadata": {
        "ExecuteTime": {
          "end_time": "2024-12-04T20:10:46.119215Z",
          "start_time": "2024-12-04T20:10:46.081536Z"
        }
      },
      "cell_type": "code",
      "source": "sumOfProducts(getValidMuls(removeDisabledMuls(input)))",
      "outputs": [],
      "execution_count": null
    }
  ],
  "metadata": {
    "kernelspec": {
      "display_name": "Kotlin",
      "language": "kotlin",
      "name": "kotlin"
    },
    "language_info": {
      "name": "kotlin",
      "version": "1.9.23",
      "mimetype": "text/x-kotlin",
      "file_extension": ".kt",
      "pygments_lexer": "kotlin",
      "codemirror_mode": "text/x-kotlin",
      "nbconvert_exporter": ""
    },
    "ktnbPluginMetadata": {
      "projectDependencies": [
        "aoc24.main"
      ],
      "projectLibraries": false
    }
  },
  "nbformat": 4,
  "nbformat_minor": 0
}
