{
  "cells": [
    {
      "metadata": {},
      "cell_type": "markdown",
      "source": "# Data",
      "outputs": [],
      "execution_count": null
    },
    {
      "metadata": {
        "ExecuteTime": {
          "end_time": "2024-12-03T13:13:10.724885Z",
          "start_time": "2024-12-03T13:13:10.671289Z"
        }
      },
      "cell_type": "code",
      "source": [
        "import input.readString\n",
        "\n",
        "val (test, input) = readString(\"test\", \"input\").map { it.replace('\\n', '_') }"
      ],
      "outputs": [],
      "execution_count": null
    },
    {
      "metadata": {},
      "cell_type": "markdown",
      "source": "# Part 1",
      "outputs": [],
      "execution_count": null
    },
    {
      "metadata": {
        "ExecuteTime": {
          "end_time": "2024-12-03T13:13:10.773174Z",
          "start_time": "2024-12-03T13:13:10.727386Z"
        }
      },
      "cell_type": "code",
      "source": [
        "fun getValidMuls(input: String) = Regex(\"mul\\\\((\\\\d{1,3}),(\\\\d{1,3})\\\\)\").findAll(input).map {\n",
        "    val (_, first, second) = it.groupValues\n",
        "    first.toInt() to second.toInt()\n",
        "}.toList()"
      ],
      "outputs": [],
      "execution_count": null
    },
    {
      "metadata": {
        "ExecuteTime": {
          "end_time": "2024-12-03T13:13:10.813928Z",
          "start_time": "2024-12-03T13:13:10.775417Z"
        }
      },
      "cell_type": "code",
      "source": "fun sumOfProducts(pairs: List<Pair<Int, Int>>) = pairs.sumOf { (first, second) -> first * second }",
      "outputs": [],
      "execution_count": null
    },
    {
      "metadata": {
        "ExecuteTime": {
          "end_time": "2024-12-03T13:13:10.840014Z",
          "start_time": "2024-12-03T13:13:10.816420Z"
        }
      },
      "cell_type": "code",
      "source": "check(sumOfProducts(getValidMuls(test))==161)",
      "outputs": [],
      "execution_count": null
    },
    {
      "metadata": {
        "ExecuteTime": {
          "end_time": "2024-12-03T13:13:10.868221Z",
          "start_time": "2024-12-03T13:13:10.843852Z"
        }
      },
      "cell_type": "code",
      "source": "sumOfProducts(getValidMuls(input))",
      "outputs": [],
      "execution_count": null
    },
    {
      "metadata": {},
      "cell_type": "markdown",
      "source": "# Part 2",
      "outputs": [],
      "execution_count": null
    },
    {
      "metadata": {
        "ExecuteTime": {
          "end_time": "2024-12-03T13:13:10.892522Z",
          "start_time": "2024-12-03T13:13:10.870892Z"
        }
      },
      "cell_type": "code",
      "source": "fun removeDisabledMuls(input: String) = Regex(\"don't\\\\(\\\\).*?(do\\\\(\\\\)|$)\").replace(input, \"\")",
      "outputs": [],
      "execution_count": null
    },
    {
      "metadata": {
        "ExecuteTime": {
          "end_time": "2024-12-03T13:13:10.935406Z",
          "start_time": "2024-12-03T13:13:10.894859Z"
        }
      },
      "cell_type": "code",
      "source": [
        "val (test2) = readString(\"test2\").map { it.replace('\\n', '_') }\n",
        "check(sumOfProducts(getValidMuls(removeDisabledMuls(test2)))==48)"
      ],
      "outputs": [],
      "execution_count": null
    },
    {
      "metadata": {
        "ExecuteTime": {
          "end_time": "2024-12-03T13:13:10.962835Z",
          "start_time": "2024-12-03T13:13:10.938720Z"
        }
      },
      "cell_type": "code",
      "source": "sumOfProducts(getValidMuls(removeDisabledMuls(input)))",
      "outputs": [],
      "execution_count": null
    }
  ],
  "metadata": {
    "kernelspec": {
      "display_name": "Kotlin",
      "language": "kotlin",
      "name": "kotlin"
    },
    "language_info": {
      "name": "kotlin",
      "version": "1.9.23",
      "mimetype": "text/x-kotlin",
      "file_extension": ".kt",
      "pygments_lexer": "kotlin",
      "codemirror_mode": "text/x-kotlin",
      "nbconvert_exporter": ""
    },
    "ktnbPluginMetadata": {
      "projectDependencies": [
        "aoc24.main"
      ],
      "projectLibraries": false
    }
  },
  "nbformat": 4,
  "nbformat_minor": 0
}
